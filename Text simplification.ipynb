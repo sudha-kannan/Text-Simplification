{
 "cells": [
  {
   "cell_type": "code",
   "execution_count": 1,
   "metadata": {},
   "outputs": [],
   "source": [
    "import re\n",
    "from pickle import dump\n",
    "from unicodedata import normalize\n",
    "from numpy import array\n",
    "import string\n",
    "import codecs\n",
    "import numpy as np\n",
    "\n",
    "import gensim\n",
    "from gensim.models import Word2Vec\n",
    "from gensim.utils import simple_preprocess\n",
    "from gensim.models.keyedvectors import KeyedVectors\n",
    "\n",
    "from pickle import load\n",
    "from numpy.random import rand\n",
    "from numpy.random import shuffle\n",
    " \n",
    "# load a dataset\n",
    "def load_sentences(dataFileName):\n",
    "    with codecs.open(dataFileName, 'r', 'utf-8') as fin:\n",
    "        sentences = fin.readlines()\n",
    "    return sentences\n",
    "\n",
    "def create_localEmbedding(sentences):    \n",
    "    wordSet = [[wd.strip() for wd in word.split(' ') if wd.strip()] for word in sentences]\n",
    "    localW2V = Word2Vec(wordSet, size=200, workers=10, window=111, min_count=1, max_vocab_size=None, sg=1, hs=1)\n",
    "    return localW2V\n",
    "\n",
    "def encode_words2vec(localModel, word):\n",
    "    if word in globalModelVec.vocab:\n",
    "        w2v_global = globalModel[word]\n",
    "    else:\n",
    "        w2v_global = np.random.normal(0, 0.9, 300)#np.zeros((300,), dtype=float)\n",
    "    w2v_local = localModel[word]\n",
    "    w2v_500 = np.concatenate((w2v_global, w2v_local), axis=0)\n",
    "    return(w2v_500)\n",
    "\n",
    "# max sentence length\n",
    "def max_length(lines):\n",
    "    return max(len(line.split()) for line in lines)\n",
    "\n",
    "    # encode and pad sequences\n",
    "def encode_sequences(encoder, MaxWordsPerLine, sentences):\n",
    "    wordSet = [[wd.strip() for wd in word.split(' ') if wd.strip()] for word in sentences]\n",
    "\n",
    "    NumLines = len(sentences)\n",
    "    FeaturesPerVector = 500\n",
    "\n",
    "    Seq  = np.zeros((NumLines,MaxWordsPerLine,FeaturesPerVector))\n",
    "    iter1 = 0\n",
    "    for lines in wordSet:\n",
    "        iter2 = 0\n",
    "        for words in lines :\n",
    "            Seq[iter1][iter2][:] = encode_words2vec(encoder, words)\n",
    "            iter2 = iter2 + 1\n",
    "        iter1 = iter1 + 1\n",
    "\n",
    "    return Seq"
   ]
  },
  {
   "cell_type": "code",
   "execution_count": 2,
   "metadata": {},
   "outputs": [],
   "source": [
    "en_sentences = load_sentences('train_en.txt')\n",
    "sen_sentences = load_sentences('train_sen.txt')\n",
    "\n",
    "en_sentences = en_sentences[:4000]\n",
    "sen_sentences = sen_sentences[:4000]"
   ]
  },
  {
   "cell_type": "code",
   "execution_count": 3,
   "metadata": {},
   "outputs": [
    {
     "name": "stderr",
     "output_type": "stream",
     "text": [
      "C:\\Users\\sudha\\Anaconda3\\lib\\site-packages\\ipykernel_launcher.py:2: DeprecationWarning: Call to deprecated `wv` (Attribute will be removed in 4.0.0, use self instead).\n",
      "  \n"
     ]
    }
   ],
   "source": [
    "globalModel = KeyedVectors.load_word2vec_format('C:/Users/sudha/Downloads/GoogleNews-vectors-negative300.bin.gz',binary=True)\n",
    "globalModelVec = globalModel.wv"
   ]
  },
  {
   "cell_type": "code",
   "execution_count": 24,
   "metadata": {},
   "outputs": [
    {
     "data": {
      "text/plain": [
       "array([ 0.08007812,  0.10498047,  0.04980469,  0.0534668 , -0.06738281,\n",
       "       -0.12060547,  0.03515625, -0.11865234,  0.04394531,  0.03015137,\n",
       "       -0.05688477, -0.07617188,  0.01287842,  0.04980469, -0.08496094,\n",
       "       -0.06347656,  0.00628662, -0.04321289,  0.02026367,  0.01330566,\n",
       "       -0.01953125,  0.09277344, -0.171875  , -0.00131989,  0.06542969,\n",
       "        0.05834961, -0.08251953,  0.0859375 , -0.00318909,  0.05859375,\n",
       "       -0.03491211, -0.0123291 , -0.0480957 , -0.00302124,  0.05639648,\n",
       "        0.01495361, -0.07226562, -0.05224609,  0.09667969,  0.04296875,\n",
       "       -0.03540039, -0.07324219,  0.03271484, -0.06176758,  0.00787354,\n",
       "        0.0035553 , -0.00878906,  0.0390625 ,  0.03833008,  0.04443359,\n",
       "        0.06982422,  0.01263428, -0.00445557, -0.03320312, -0.04272461,\n",
       "        0.09765625, -0.02160645, -0.0378418 ,  0.01190186, -0.01391602,\n",
       "       -0.11328125,  0.09326172, -0.03930664, -0.11621094,  0.02331543,\n",
       "       -0.01599121,  0.02636719,  0.10742188, -0.00466919,  0.09619141,\n",
       "        0.0279541 , -0.05395508,  0.08544922, -0.03686523, -0.02026367,\n",
       "       -0.08544922,  0.125     ,  0.14453125,  0.0267334 ,  0.15039062,\n",
       "        0.05273438, -0.18652344,  0.08154297, -0.01062012, -0.03735352,\n",
       "       -0.07324219, -0.07519531,  0.03613281, -0.13183594,  0.00616455,\n",
       "        0.05078125,  0.04516602,  0.0100708 , -0.15039062, -0.06005859,\n",
       "        0.05761719, -0.00692749,  0.01586914, -0.0213623 ,  0.10351562,\n",
       "       -0.00029182, -0.046875  , -0.01635742, -0.07861328, -0.06933594,\n",
       "        0.01635742, -0.03149414, -0.01373291, -0.03662109, -0.08886719,\n",
       "       -0.0480957 , -0.01318359, -0.07177734,  0.00588989, -0.04614258,\n",
       "        0.03979492,  0.10058594, -0.04931641,  0.07568359,  0.03881836,\n",
       "       -0.16699219, -0.09619141, -0.10107422,  0.02905273, -0.05786133,\n",
       "       -0.01928711, -0.04296875, -0.08398438, -0.01989746,  0.05151367,\n",
       "        0.00848389, -0.03613281, -0.14941406, -0.01855469, -0.03637695,\n",
       "       -0.07666016, -0.03955078, -0.06152344, -0.02001953,  0.04150391,\n",
       "        0.03686523, -0.07226562,  0.00592041, -0.06298828,  0.00738525,\n",
       "       -0.01586914,  0.01611328, -0.01452637,  0.00772095,  0.10107422,\n",
       "       -0.00558472,  0.01428223, -0.07617188,  0.05639648, -0.01293945,\n",
       "        0.03063965, -0.02490234, -0.09863281,  0.0324707 , -0.02807617,\n",
       "       -0.08105469,  0.02062988,  0.01611328, -0.04199219, -0.03491211,\n",
       "       -0.03759766,  0.05493164,  0.01373291,  0.02685547, -0.05859375,\n",
       "       -0.07177734, -0.12011719, -0.02282715, -0.1640625 , -0.00361633,\n",
       "       -0.05981445,  0.07080078, -0.07714844,  0.05175781, -0.04296875,\n",
       "       -0.04833984,  0.0300293 , -0.06591797, -0.03173828, -0.04882812,\n",
       "       -0.03491211,  0.05883789, -0.01464844,  0.18066406,  0.05688477,\n",
       "        0.05249023,  0.05786133,  0.11669922,  0.05200195, -0.0534668 ,\n",
       "        0.01867676, -0.015625  ,  0.00576782, -0.07324219, -0.11621094,\n",
       "        0.04052734,  0.0625    , -0.04321289,  0.01055908,  0.02172852,\n",
       "        0.04248047,  0.03271484,  0.04418945,  0.05761719,  0.02612305,\n",
       "       -0.01831055, -0.02697754, -0.00674438,  0.00509644, -0.11621094,\n",
       "        0.00364685,  0.05761719, -0.05957031, -0.08837891,  0.0135498 ,\n",
       "        0.04541016, -0.04638672, -0.0177002 , -0.0625    ,  0.03442383,\n",
       "       -0.02416992,  0.03088379,  0.09570312,  0.07958984,  0.03930664,\n",
       "        0.0279541 , -0.0859375 ,  0.08105469,  0.06640625, -0.00041962,\n",
       "       -0.06933594,  0.03588867, -0.03417969,  0.04492188, -0.00772095,\n",
       "       -0.00741577, -0.04760742,  0.01397705, -0.09960938,  0.0246582 ,\n",
       "       -0.09960938,  0.11474609,  0.03173828,  0.02209473,  0.07226562,\n",
       "        0.03686523,  0.02563477,  0.01367188, -0.02734375,  0.00592041,\n",
       "       -0.06738281,  0.05053711, -0.02832031, -0.04516602, -0.01733398,\n",
       "        0.02111816,  0.03515625, -0.04296875,  0.06640625,  0.12207031,\n",
       "        0.12353516,  0.0039978 ,  0.04516602, -0.01855469,  0.04833984,\n",
       "        0.04516602,  0.08691406,  0.02941895,  0.03759766,  0.03442383,\n",
       "       -0.07373047, -0.0402832 , -0.14648438, -0.02441406, -0.01953125,\n",
       "        0.0065918 , -0.0018158 , -0.01092529,  0.09326172,  0.06542969,\n",
       "        0.01843262, -0.09326172, -0.01574707, -0.07128906, -0.08935547,\n",
       "       -0.07128906, -0.03015137, -0.01300049,  0.01635742, -0.01831055,\n",
       "        0.01483154,  0.00500488,  0.00366211,  0.04760742, -0.06884766],\n",
       "      dtype=float32)"
      ]
     },
     "execution_count": 24,
     "metadata": {},
     "output_type": "execute_result"
    }
   ],
   "source": [
    "globalModelVec.word_vec(\"the\")"
   ]
  },
  {
   "cell_type": "code",
   "execution_count": 25,
   "metadata": {},
   "outputs": [
    {
     "data": {
      "text/plain": [
       "array([ 0.08007812,  0.10498047,  0.04980469,  0.0534668 , -0.06738281,\n",
       "       -0.12060547,  0.03515625, -0.11865234,  0.04394531,  0.03015137,\n",
       "       -0.05688477, -0.07617188,  0.01287842,  0.04980469, -0.08496094,\n",
       "       -0.06347656,  0.00628662, -0.04321289,  0.02026367,  0.01330566,\n",
       "       -0.01953125,  0.09277344, -0.171875  , -0.00131989,  0.06542969,\n",
       "        0.05834961, -0.08251953,  0.0859375 , -0.00318909,  0.05859375,\n",
       "       -0.03491211, -0.0123291 , -0.0480957 , -0.00302124,  0.05639648,\n",
       "        0.01495361, -0.07226562, -0.05224609,  0.09667969,  0.04296875,\n",
       "       -0.03540039, -0.07324219,  0.03271484, -0.06176758,  0.00787354,\n",
       "        0.0035553 , -0.00878906,  0.0390625 ,  0.03833008,  0.04443359,\n",
       "        0.06982422,  0.01263428, -0.00445557, -0.03320312, -0.04272461,\n",
       "        0.09765625, -0.02160645, -0.0378418 ,  0.01190186, -0.01391602,\n",
       "       -0.11328125,  0.09326172, -0.03930664, -0.11621094,  0.02331543,\n",
       "       -0.01599121,  0.02636719,  0.10742188, -0.00466919,  0.09619141,\n",
       "        0.0279541 , -0.05395508,  0.08544922, -0.03686523, -0.02026367,\n",
       "       -0.08544922,  0.125     ,  0.14453125,  0.0267334 ,  0.15039062,\n",
       "        0.05273438, -0.18652344,  0.08154297, -0.01062012, -0.03735352,\n",
       "       -0.07324219, -0.07519531,  0.03613281, -0.13183594,  0.00616455,\n",
       "        0.05078125,  0.04516602,  0.0100708 , -0.15039062, -0.06005859,\n",
       "        0.05761719, -0.00692749,  0.01586914, -0.0213623 ,  0.10351562,\n",
       "       -0.00029182, -0.046875  , -0.01635742, -0.07861328, -0.06933594,\n",
       "        0.01635742, -0.03149414, -0.01373291, -0.03662109, -0.08886719,\n",
       "       -0.0480957 , -0.01318359, -0.07177734,  0.00588989, -0.04614258,\n",
       "        0.03979492,  0.10058594, -0.04931641,  0.07568359,  0.03881836,\n",
       "       -0.16699219, -0.09619141, -0.10107422,  0.02905273, -0.05786133,\n",
       "       -0.01928711, -0.04296875, -0.08398438, -0.01989746,  0.05151367,\n",
       "        0.00848389, -0.03613281, -0.14941406, -0.01855469, -0.03637695,\n",
       "       -0.07666016, -0.03955078, -0.06152344, -0.02001953,  0.04150391,\n",
       "        0.03686523, -0.07226562,  0.00592041, -0.06298828,  0.00738525,\n",
       "       -0.01586914,  0.01611328, -0.01452637,  0.00772095,  0.10107422,\n",
       "       -0.00558472,  0.01428223, -0.07617188,  0.05639648, -0.01293945,\n",
       "        0.03063965, -0.02490234, -0.09863281,  0.0324707 , -0.02807617,\n",
       "       -0.08105469,  0.02062988,  0.01611328, -0.04199219, -0.03491211,\n",
       "       -0.03759766,  0.05493164,  0.01373291,  0.02685547, -0.05859375,\n",
       "       -0.07177734, -0.12011719, -0.02282715, -0.1640625 , -0.00361633,\n",
       "       -0.05981445,  0.07080078, -0.07714844,  0.05175781, -0.04296875,\n",
       "       -0.04833984,  0.0300293 , -0.06591797, -0.03173828, -0.04882812,\n",
       "       -0.03491211,  0.05883789, -0.01464844,  0.18066406,  0.05688477,\n",
       "        0.05249023,  0.05786133,  0.11669922,  0.05200195, -0.0534668 ,\n",
       "        0.01867676, -0.015625  ,  0.00576782, -0.07324219, -0.11621094,\n",
       "        0.04052734,  0.0625    , -0.04321289,  0.01055908,  0.02172852,\n",
       "        0.04248047,  0.03271484,  0.04418945,  0.05761719,  0.02612305,\n",
       "       -0.01831055, -0.02697754, -0.00674438,  0.00509644, -0.11621094,\n",
       "        0.00364685,  0.05761719, -0.05957031, -0.08837891,  0.0135498 ,\n",
       "        0.04541016, -0.04638672, -0.0177002 , -0.0625    ,  0.03442383,\n",
       "       -0.02416992,  0.03088379,  0.09570312,  0.07958984,  0.03930664,\n",
       "        0.0279541 , -0.0859375 ,  0.08105469,  0.06640625, -0.00041962,\n",
       "       -0.06933594,  0.03588867, -0.03417969,  0.04492188, -0.00772095,\n",
       "       -0.00741577, -0.04760742,  0.01397705, -0.09960938,  0.0246582 ,\n",
       "       -0.09960938,  0.11474609,  0.03173828,  0.02209473,  0.07226562,\n",
       "        0.03686523,  0.02563477,  0.01367188, -0.02734375,  0.00592041,\n",
       "       -0.06738281,  0.05053711, -0.02832031, -0.04516602, -0.01733398,\n",
       "        0.02111816,  0.03515625, -0.04296875,  0.06640625,  0.12207031,\n",
       "        0.12353516,  0.0039978 ,  0.04516602, -0.01855469,  0.04833984,\n",
       "        0.04516602,  0.08691406,  0.02941895,  0.03759766,  0.03442383,\n",
       "       -0.07373047, -0.0402832 , -0.14648438, -0.02441406, -0.01953125,\n",
       "        0.0065918 , -0.0018158 , -0.01092529,  0.09326172,  0.06542969,\n",
       "        0.01843262, -0.09326172, -0.01574707, -0.07128906, -0.08935547,\n",
       "       -0.07128906, -0.03015137, -0.01300049,  0.01635742, -0.01831055,\n",
       "        0.01483154,  0.00500488,  0.00366211,  0.04760742, -0.06884766],\n",
       "      dtype=float32)"
      ]
     },
     "execution_count": 25,
     "metadata": {},
     "output_type": "execute_result"
    }
   ],
   "source": [
    "globalModelVec['the']"
   ]
  },
  {
   "cell_type": "code",
   "execution_count": 27,
   "metadata": {},
   "outputs": [
    {
     "data": {
      "text/plain": [
       "300"
      ]
     },
     "execution_count": 27,
     "metadata": {},
     "output_type": "execute_result"
    }
   ],
   "source": [
    "globalModelVec.vector_size"
   ]
  },
  {
   "cell_type": "code",
   "execution_count": 6,
   "metadata": {},
   "outputs": [
    {
     "name": "stderr",
     "output_type": "stream",
     "text": [
      "C:\\Users\\sudha\\Anaconda3\\lib\\site-packages\\gensim\\models\\base_any2vec.py:743: UserWarning: C extension not loaded, training will be slow. Install a C compiler and reinstall gensim for fast training.\n",
      "  \"C extension not loaded, training will be slow. \"\n"
     ]
    }
   ],
   "source": [
    "w2v_en = create_localEmbedding(en_sentences)\n",
    "w2v_sen = create_localEmbedding(sen_sentences)"
   ]
  },
  {
   "cell_type": "code",
   "execution_count": 7,
   "metadata": {},
   "outputs": [
    {
     "data": {
      "text/plain": [
       "[148, 110]"
      ]
     },
     "execution_count": 7,
     "metadata": {},
     "output_type": "execute_result"
    }
   ],
   "source": [
    "MaxWordsPerLine_en = max_length(en_sentences)\n",
    "MaxWordsPerLine_sen = max_length(sen_sentences)\n",
    "\n",
    "[MaxWordsPerLine_en, MaxWordsPerLine_sen]"
   ]
  },
  {
   "cell_type": "code",
   "execution_count": 8,
   "metadata": {},
   "outputs": [
    {
     "name": "stderr",
     "output_type": "stream",
     "text": [
      "C:\\Users\\sudha\\Anaconda3\\lib\\site-packages\\ipykernel_launcher.py:34: DeprecationWarning: Call to deprecated `__getitem__` (Method will be removed in 4.0.0, use self.wv.__getitem__() instead).\n"
     ]
    },
    {
     "data": {
      "text/plain": [
       "[(4000, 148, 500), (4000, 110, 500)]"
      ]
     },
     "execution_count": 8,
     "metadata": {},
     "output_type": "execute_result"
    }
   ],
   "source": [
    "newVec_en = encode_sequences(w2v_en, MaxWordsPerLine_en, en_sentences)\n",
    "newVec_sen = encode_sequences(w2v_sen, MaxWordsPerLine_sen, sen_sentences)\n",
    "\n",
    "[newVec_en.shape, newVec_sen.shape]"
   ]
  },
  {
   "cell_type": "code",
   "execution_count": 9,
   "metadata": {},
   "outputs": [
    {
     "data": {
      "text/plain": [
       "[16537, 14406, 3000000]"
      ]
     },
     "execution_count": 9,
     "metadata": {},
     "output_type": "execute_result"
    }
   ],
   "source": [
    "[len(w2v_en.wv.vocab),  len(w2v_sen.wv.vocab),  len(globalModelVec.vocab)]"
   ]
  },
  {
   "cell_type": "code",
   "execution_count": 11,
   "metadata": {},
   "outputs": [],
   "source": [
    "def decode_vec2word(prediction,model):\n",
    "    lines = prediction.shape[0]\n",
    "    words = prediction.shape[1]\n",
    "    w2vlength = 500 \n",
    "    a = []\n",
    "    for j in range(0,lines):\n",
    "        op = ''\n",
    "        for i  in range(0,words):\n",
    "            #g = prediction[j][i][300:500]\n",
    "            g = prediction[j][i][:300]\n",
    "            if (np.count_nonzero(g) > 0):\n",
    "                #decodeWord = model.most_similar( positive = [g] )[0][0]\n",
    "                decodeWord = globalModel.most_similar( positive = [g] )[0][0]\n",
    "                op = op + ' ' +decodeWord\n",
    "        a.append(op)\n",
    "    return(a)"
   ]
  },
  {
   "cell_type": "code",
   "execution_count": 13,
   "metadata": {},
   "outputs": [
    {
     "name": "stdout",
     "output_type": "stream",
     "text": [
      "Model: \"sequential_1\"\n",
      "_________________________________________________________________\n",
      "Layer (type)                 Output Shape              Param #   \n",
      "=================================================================\n",
      "lstm_1 (LSTM)                (None, 148, 500)          2002000   \n",
      "_________________________________________________________________\n",
      "flatten_1 (Flatten)          (None, 74000)             0         \n",
      "_________________________________________________________________\n",
      "dense_1 (Dense)              (None, 500)               37000500  \n",
      "_________________________________________________________________\n",
      "repeat_vector_1 (RepeatVecto (None, 110, 500)          0         \n",
      "_________________________________________________________________\n",
      "lstm_2 (LSTM)                (None, 110, 500)          2002000   \n",
      "_________________________________________________________________\n",
      "time_distributed_1 (TimeDist (None, 110, 500)          250500    \n",
      "=================================================================\n",
      "Total params: 41,255,000\n",
      "Trainable params: 41,255,000\n",
      "Non-trainable params: 0\n",
      "_________________________________________________________________\n",
      "None\n"
     ]
    }
   ],
   "source": [
    "import keras\n",
    "from keras.models import Sequential\n",
    "from keras.layers import Embedding\n",
    "from keras.layers import LSTM, Flatten\n",
    "from keras.layers import RepeatVector\n",
    "from keras.layers import TimeDistributed, Dense, Dropout\n",
    "#from Attention import AttentionLayer\n",
    "\n",
    "\n",
    "# define NMT model\n",
    "def define_model(src_vocab, tar_vocab, src_timesteps, tar_timesteps, n_units):\n",
    "    model = Sequential()\n",
    "    \n",
    "    #model.add(Embedding(src_vocab, n_units, input_length=src_timesteps, mask_zero=True))\n",
    "    model.add(LSTM(500, input_shape= (MaxWordsPerLine_en, 500), return_sequences=True ) )\n",
    "    model.add(Flatten())\n",
    "    model.add(Dense(500))\n",
    "    model.add(RepeatVector(MaxWordsPerLine_sen))\n",
    "    model.add(LSTM(500, return_sequences=True))\n",
    "    model.add(TimeDistributed(Dense(500)))\n",
    "\n",
    "    \n",
    "    return model\n",
    "\n",
    " \n",
    "model = define_model(44682, 39188, MaxWordsPerLine_en, MaxWordsPerLine_sen, 500)\n",
    "model.compile(optimizer='adam', loss='mean_squared_error')\n",
    "\n",
    "# summarize defined model\n",
    "print(model.summary())"
   ]
  },
  {
   "cell_type": "code",
   "execution_count": 14,
   "metadata": {},
   "outputs": [
    {
     "data": {
      "text/plain": [
       "(None, 148, 500)"
      ]
     },
     "execution_count": 14,
     "metadata": {},
     "output_type": "execute_result"
    }
   ],
   "source": [
    "model.input_shape"
   ]
  },
  {
   "cell_type": "code",
   "execution_count": 17,
   "metadata": {},
   "outputs": [],
   "source": [
    "trainX = newVec_en[:3200]\n",
    "trainY = newVec_sen[:3200]\n",
    "\n",
    "valX = newVec_en[3200:3600]\n",
    "valY = newVec_sen[3200:3600] \n",
    "\n",
    "testX = newVec_en[3600:]\n",
    "testY = newVec_sen[3600:]\n",
    "\n"
   ]
  },
  {
   "cell_type": "code",
   "execution_count": 28,
   "metadata": {},
   "outputs": [
    {
     "name": "stdout",
     "output_type": "stream",
     "text": [
      "Train on 3200 samples, validate on 400 samples\n",
      "Epoch 1/10\n",
      " - 188s - loss: 0.0378 - val_loss: 0.0347\n",
      "\n",
      "Epoch 00001: val_loss improved from inf to 0.03474, saving model to model.h5\n",
      "Epoch 2/10\n",
      " - 182s - loss: 0.0332 - val_loss: 0.0295\n",
      "\n",
      "Epoch 00002: val_loss improved from 0.03474 to 0.02951, saving model to model.h5\n",
      "Epoch 3/10\n",
      " - 177s - loss: 0.0311 - val_loss: 0.0290\n",
      "\n",
      "Epoch 00003: val_loss improved from 0.02951 to 0.02898, saving model to model.h5\n",
      "Epoch 4/10\n",
      " - 178s - loss: 0.0306 - val_loss: 0.0287\n",
      "\n",
      "Epoch 00004: val_loss improved from 0.02898 to 0.02870, saving model to model.h5\n",
      "Epoch 5/10\n",
      " - 175s - loss: 0.0304 - val_loss: 0.0285\n",
      "\n",
      "Epoch 00005: val_loss improved from 0.02870 to 0.02854, saving model to model.h5\n",
      "Epoch 6/10\n",
      " - 176s - loss: 0.0303 - val_loss: 0.0284\n",
      "\n",
      "Epoch 00006: val_loss improved from 0.02854 to 0.02843, saving model to model.h5\n",
      "Epoch 7/10\n",
      " - 175s - loss: 0.0302 - val_loss: 0.0284\n",
      "\n",
      "Epoch 00007: val_loss improved from 0.02843 to 0.02836, saving model to model.h5\n",
      "Epoch 8/10\n",
      " - 182s - loss: 0.0301 - val_loss: 0.0283\n",
      "\n",
      "Epoch 00008: val_loss improved from 0.02836 to 0.02831, saving model to model.h5\n",
      "Epoch 9/10\n",
      " - 175s - loss: 0.0301 - val_loss: 0.0283\n",
      "\n",
      "Epoch 00009: val_loss improved from 0.02831 to 0.02827, saving model to model.h5\n",
      "Epoch 10/10\n",
      " - 175s - loss: 0.0300 - val_loss: 0.0282\n",
      "\n",
      "Epoch 00010: val_loss improved from 0.02827 to 0.02824, saving model to model.h5\n"
     ]
    }
   ],
   "source": [
    "from keras.callbacks import ModelCheckpoint\n",
    "from keras.models import load_model\n",
    "# fit model\n",
    "#filename = 'model.h5'\n",
    "\n",
    "#model = load_model('model.h5')\n",
    "checkpoint = ModelCheckpoint(filename, monitor='val_loss', verbose=1, save_best_only=True, mode='min')\n",
    "history = model.fit(trainX, trainY, epochs=10, batch_size=800, validation_data=(valX, valY), callbacks=[checkpoint], verbose=2)"
   ]
  },
  {
   "cell_type": "code",
   "execution_count": 29,
   "metadata": {},
   "outputs": [
    {
     "data": {
      "text/plain": [
       "(3200, 110, 500)"
      ]
     },
     "execution_count": 29,
     "metadata": {},
     "output_type": "execute_result"
    }
   ],
   "source": [
    "trainY.shape"
   ]
  },
  {
   "cell_type": "code",
   "execution_count": 30,
   "metadata": {},
   "outputs": [
    {
     "name": "stdout",
     "output_type": "stream",
     "text": [
      "dict_keys(['val_loss', 'loss'])\n"
     ]
    },
    {
     "data": {
      "image/png": "[encoded data removed]",
      "text/plain": [
       "<Figure size 432x288 with 1 Axes>"
      ]
     },
     "metadata": {
      "needs_background": "light"
     },
     "output_type": "display_data"
    }
   ],
   "source": [
    "import matplotlib.pyplot as plt\n",
    "# list all data in history\n",
    "print(history.history.keys())\n",
    "\n",
    "# summarize history for loss\n",
    "plt.plot(history.history['loss'])\n",
    "plt.plot(history.history['val_loss'])\n",
    "plt.title('model loss')\n",
    "plt.ylabel('loss')\n",
    "plt.xlabel('epoch')\n",
    "plt.legend(['train', 'val'], loc='upper left')\n",
    "plt.show()"
   ]
  },
  {
   "cell_type": "code",
   "execution_count": 31,
   "metadata": {},
   "outputs": [],
   "source": [
    "prediction = model.predict(testX[:5])"
   ]
  },
  {
   "cell_type": "code",
   "execution_count": 32,
   "metadata": {},
   "outputs": [
    {
     "data": {
      "text/plain": [
       "(5, 110, 500)"
      ]
     },
     "execution_count": 32,
     "metadata": {},
     "output_type": "execute_result"
    }
   ],
   "source": [
    "prediction.shape"
   ]
  },
  {
   "cell_type": "code",
   "execution_count": 33,
   "metadata": {},
   "outputs": [],
   "source": [
    "prediction_words = decode_vec2word(prediction, w2v_sen)"
   ]
  },
  {
   "cell_type": "code",
   "execution_count": 25,
   "metadata": {},
   "outputs": [
    {
     "data": {
      "text/plain": [
       "[' smalltown aiming aiming aiming aiming aiming aiming aiming aiming aiming aiming aiming aiming aiming aiming aiming aiming aiming aiming aiming aiming aiming aiming aiming aiming aiming aiming aiming aiming aiming aiming aiming aiming aiming aiming aiming aiming aiming aiming aiming aiming aiming aiming aiming aiming aiming aiming aiming aiming aiming aiming aiming aiming aiming aiming aiming aiming aiming aiming aiming aiming aiming aiming aiming aiming aiming aiming aiming aiming aiming aiming aiming aiming aiming aiming aiming aiming aiming aiming aiming aiming aiming aiming aiming aiming aiming aiming aiming aiming aiming aiming aiming aiming aiming aiming aiming aiming aiming aiming aiming aiming aiming aiming aiming aiming aiming aiming aiming aiming aiming',\n",
       " ' Aton_Soumache Aton_Soumache Catherine_Mathis Catherine_Mathis Catherine_Mathis interval_ScanSource interval_ScanSource interval_ScanSource interval_ScanSource interval_ScanSource interval_ScanSource interval_ScanSource interval_ScanSource interval_ScanSource interval_ScanSource interval_ScanSource interval_ScanSource interval_ScanSource interval_ScanSource interval_ScanSource interval_ScanSource interval_ScanSource interval_ScanSource interval_ScanSource interval_ScanSource interval_ScanSource interval_ScanSource interval_ScanSource interval_ScanSource interval_ScanSource interval_ScanSource interval_ScanSource interval_ScanSource interval_ScanSource interval_ScanSource interval_ScanSource interval_ScanSource interval_ScanSource interval_ScanSource interval_ScanSource interval_ScanSource interval_ScanSource interval_ScanSource interval_ScanSource interval_ScanSource interval_ScanSource interval_ScanSource interval_ScanSource interval_ScanSource interval_ScanSource interval_ScanSource interval_ScanSource interval_ScanSource interval_ScanSource interval_ScanSource interval_ScanSource interval_ScanSource interval_ScanSource interval_ScanSource interval_ScanSource interval_ScanSource interval_ScanSource interval_ScanSource interval_ScanSource interval_ScanSource interval_ScanSource interval_ScanSource interval_ScanSource interval_ScanSource interval_ScanSource interval_ScanSource interval_ScanSource interval_ScanSource interval_ScanSource interval_ScanSource interval_ScanSource interval_ScanSource interval_ScanSource interval_ScanSource interval_ScanSource interval_ScanSource interval_ScanSource interval_ScanSource interval_ScanSource interval_ScanSource interval_ScanSource interval_ScanSource interval_ScanSource interval_ScanSource interval_ScanSource interval_ScanSource interval_ScanSource interval_ScanSource interval_ScanSource interval_ScanSource interval_ScanSource interval_ScanSource interval_ScanSource interval_ScanSource interval_ScanSource interval_ScanSource interval_ScanSource interval_ScanSource interval_ScanSource interval_ScanSource interval_ScanSource interval_ScanSource interval_ScanSource interval_ScanSource interval_ScanSource',\n",
       " ' bloodier_battles bloodier_battles George_Eskola David_Turno David_Turno David_Turno David_Turno David_Turno David_Turno David_Turno David_Turno Clay_Rothe Clay_Rothe Clay_Rothe Clay_Rothe Clay_Rothe Clay_Rothe Clay_Rothe Clay_Rothe Clay_Rothe Clay_Rothe Clay_Rothe Clay_Rothe Clay_Rothe Clay_Rothe Clay_Rothe Clay_Rothe Clay_Rothe Clay_Rothe Clay_Rothe Clay_Rothe Clay_Rothe Clay_Rothe Clay_Rothe Clay_Rothe Clay_Rothe Clay_Rothe Clay_Rothe Clay_Rothe Clay_Rothe Clay_Rothe Clay_Rothe Clay_Rothe Clay_Rothe Clay_Rothe Clay_Rothe Clay_Rothe Clay_Rothe Clay_Rothe Clay_Rothe Clay_Rothe Clay_Rothe Clay_Rothe Clay_Rothe Clay_Rothe Clay_Rothe Clay_Rothe Clay_Rothe Clay_Rothe Clay_Rothe Clay_Rothe Clay_Rothe Clay_Rothe Clay_Rothe Clay_Rothe Clay_Rothe Clay_Rothe Clay_Rothe Clay_Rothe Clay_Rothe Clay_Rothe Clay_Rothe Clay_Rothe Clay_Rothe Clay_Rothe Clay_Rothe Clay_Rothe Clay_Rothe Clay_Rothe Clay_Rothe Clay_Rothe Clay_Rothe Clay_Rothe Clay_Rothe Clay_Rothe Clay_Rothe Clay_Rothe Clay_Rothe Clay_Rothe Clay_Rothe Clay_Rothe Clay_Rothe Clay_Rothe Clay_Rothe Clay_Rothe Clay_Rothe Clay_Rothe Clay_Rothe Clay_Rothe Clay_Rothe Clay_Rothe Clay_Rothe Clay_Rothe Clay_Rothe Clay_Rothe Clay_Rothe Clay_Rothe Clay_Rothe Clay_Rothe Clay_Rothe',\n",
       " ' Takeshi_Yoshida Takeshi_Yoshida Takeshi_Yoshida Takeshi_Yoshida By_Natasha_Ewendt misled misled misled misled By_Natasha_Ewendt By_Natasha_Ewendt By_Natasha_Ewendt By_Natasha_Ewendt By_Natasha_Ewendt By_Natasha_Ewendt By_Natasha_Ewendt By_Natasha_Ewendt By_Natasha_Ewendt By_Natasha_Ewendt By_Natasha_Ewendt By_Natasha_Ewendt By_Natasha_Ewendt By_Natasha_Ewendt By_Natasha_Ewendt By_Natasha_Ewendt By_Natasha_Ewendt By_Natasha_Ewendt By_Natasha_Ewendt By_Natasha_Ewendt By_Natasha_Ewendt By_Natasha_Ewendt By_Natasha_Ewendt By_Natasha_Ewendt By_Natasha_Ewendt By_Natasha_Ewendt By_Natasha_Ewendt By_Natasha_Ewendt By_Natasha_Ewendt By_Natasha_Ewendt By_Natasha_Ewendt By_Natasha_Ewendt By_Natasha_Ewendt By_Natasha_Ewendt By_Natasha_Ewendt By_Natasha_Ewendt By_Natasha_Ewendt By_Natasha_Ewendt By_Natasha_Ewendt By_Natasha_Ewendt By_Natasha_Ewendt By_Natasha_Ewendt By_Natasha_Ewendt By_Natasha_Ewendt By_Natasha_Ewendt By_Natasha_Ewendt By_Natasha_Ewendt By_Natasha_Ewendt By_Natasha_Ewendt By_Natasha_Ewendt By_Natasha_Ewendt By_Natasha_Ewendt By_Natasha_Ewendt By_Natasha_Ewendt By_Natasha_Ewendt By_Natasha_Ewendt By_Natasha_Ewendt By_Natasha_Ewendt By_Natasha_Ewendt By_Natasha_Ewendt By_Natasha_Ewendt By_Natasha_Ewendt By_Natasha_Ewendt By_Natasha_Ewendt By_Natasha_Ewendt By_Natasha_Ewendt By_Natasha_Ewendt By_Natasha_Ewendt By_Natasha_Ewendt By_Natasha_Ewendt By_Natasha_Ewendt By_Natasha_Ewendt By_Natasha_Ewendt By_Natasha_Ewendt By_Natasha_Ewendt By_Natasha_Ewendt By_Natasha_Ewendt By_Natasha_Ewendt By_Natasha_Ewendt By_Natasha_Ewendt By_Natasha_Ewendt By_Natasha_Ewendt By_Natasha_Ewendt By_Natasha_Ewendt By_Natasha_Ewendt By_Natasha_Ewendt By_Natasha_Ewendt By_Natasha_Ewendt By_Natasha_Ewendt By_Natasha_Ewendt By_Natasha_Ewendt By_Natasha_Ewendt By_Natasha_Ewendt By_Natasha_Ewendt By_Natasha_Ewendt By_Natasha_Ewendt By_Natasha_Ewendt By_Natasha_Ewendt By_Natasha_Ewendt By_Natasha_Ewendt By_Natasha_Ewendt',\n",
       " ' E_mail_books@stpauls.ph E_mail_books@stpauls.ph E_mail_books@stpauls.ph E_mail_books@stpauls.ph E_mail_books@stpauls.ph E_mail_books@stpauls.ph E_mail_books@stpauls.ph E_mail_books@stpauls.ph E_mail_books@stpauls.ph E_mail_books@stpauls.ph E_mail_books@stpauls.ph E_mail_books@stpauls.ph E_mail_books@stpauls.ph E_mail_books@stpauls.ph E_mail_books@stpauls.ph E_mail_books@stpauls.ph E_mail_books@stpauls.ph E_mail_books@stpauls.ph E_mail_books@stpauls.ph E_mail_books@stpauls.ph E_mail_books@stpauls.ph E_mail_books@stpauls.ph E_mail_books@stpauls.ph E_mail_books@stpauls.ph E_mail_books@stpauls.ph E_mail_books@stpauls.ph E_mail_books@stpauls.ph E_mail_books@stpauls.ph E_mail_books@stpauls.ph E_mail_books@stpauls.ph E_mail_books@stpauls.ph E_mail_books@stpauls.ph E_mail_books@stpauls.ph E_mail_books@stpauls.ph E_mail_books@stpauls.ph E_mail_books@stpauls.ph E_mail_books@stpauls.ph E_mail_books@stpauls.ph E_mail_books@stpauls.ph E_mail_books@stpauls.ph E_mail_books@stpauls.ph E_mail_books@stpauls.ph E_mail_books@stpauls.ph E_mail_books@stpauls.ph E_mail_books@stpauls.ph E_mail_books@stpauls.ph E_mail_books@stpauls.ph E_mail_books@stpauls.ph E_mail_books@stpauls.ph E_mail_books@stpauls.ph E_mail_books@stpauls.ph E_mail_books@stpauls.ph E_mail_books@stpauls.ph E_mail_books@stpauls.ph E_mail_books@stpauls.ph E_mail_books@stpauls.ph E_mail_books@stpauls.ph E_mail_books@stpauls.ph E_mail_books@stpauls.ph E_mail_books@stpauls.ph E_mail_books@stpauls.ph E_mail_books@stpauls.ph E_mail_books@stpauls.ph E_mail_books@stpauls.ph E_mail_books@stpauls.ph E_mail_books@stpauls.ph E_mail_books@stpauls.ph E_mail_books@stpauls.ph E_mail_books@stpauls.ph E_mail_books@stpauls.ph E_mail_books@stpauls.ph E_mail_books@stpauls.ph E_mail_books@stpauls.ph E_mail_books@stpauls.ph E_mail_books@stpauls.ph E_mail_books@stpauls.ph E_mail_books@stpauls.ph E_mail_books@stpauls.ph E_mail_books@stpauls.ph E_mail_books@stpauls.ph E_mail_books@stpauls.ph E_mail_books@stpauls.ph E_mail_books@stpauls.ph E_mail_books@stpauls.ph E_mail_books@stpauls.ph E_mail_books@stpauls.ph E_mail_books@stpauls.ph E_mail_books@stpauls.ph E_mail_books@stpauls.ph E_mail_books@stpauls.ph E_mail_books@stpauls.ph E_mail_books@stpauls.ph E_mail_books@stpauls.ph E_mail_books@stpauls.ph E_mail_books@stpauls.ph E_mail_books@stpauls.ph E_mail_books@stpauls.ph E_mail_books@stpauls.ph E_mail_books@stpauls.ph E_mail_books@stpauls.ph E_mail_books@stpauls.ph E_mail_books@stpauls.ph E_mail_books@stpauls.ph E_mail_books@stpauls.ph E_mail_books@stpauls.ph E_mail_books@stpauls.ph E_mail_books@stpauls.ph E_mail_books@stpauls.ph E_mail_books@stpauls.ph E_mail_books@stpauls.ph']"
      ]
     },
     "execution_count": 25,
     "metadata": {},
     "output_type": "execute_result"
    }
   ],
   "source": [
    "prediction_words"
   ]
  },
  {
   "cell_type": "code",
   "execution_count": 27,
   "metadata": {},
   "outputs": [
    {
     "data": {
      "text/plain": [
       "['The Soviets would offer an unchanging diet of coffee , bread , soup , and potatoes .\\n',\n",
       " 'The four occupying powers of Berlin would alternate control of the prison on a monthly basis , each having the responsibility for a total of three months out of the year .\\n',\n",
       " 'Each nation in charge would bring its own cook and , in the American , French , and British months , feed the prisoners better than regulations allowed .\\n',\n",
       " 'Besides the sixty or so soldiers on duty in or around the prison at any given time , there were teams of professional civilian warders from each of the four countries , four prison directors and their deputies , four army medical officers , cooks , translators , waiters , porters and others .\\n',\n",
       " \"The prison was demolished in 1987 , largely to prevent it from becoming a Neo-Nazi shrine , after the death of its final remaining prisoner , Rudolf Hess , who had been the prison 's sole occupant after the release of Speer and von Schirach in 1966 .\\n\"]"
      ]
     },
     "execution_count": 27,
     "metadata": {},
     "output_type": "execute_result"
    }
   ],
   "source": [
    "sen_sentences[1800:1805]"
   ]
  }
 ],
 "metadata": {
  "kernelspec": {
   "display_name": "Python 3",
   "language": "python",
   "name": "python3"
  },
  "language_info": {
   "codemirror_mode": {
    "name": "ipython",
    "version": 3
   },
   "file_extension": ".py",
   "mimetype": "text/x-python",
   "name": "python",
   "nbconvert_exporter": "python",
   "pygments_lexer": "ipython3",
   "version": "3.7.4"
  }
 },
 "nbformat": 4,
 "nbformat_minor": 2
}
